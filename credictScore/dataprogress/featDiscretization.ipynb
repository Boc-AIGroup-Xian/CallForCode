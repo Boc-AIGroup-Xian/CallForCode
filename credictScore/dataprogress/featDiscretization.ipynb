{
    "nbformat_minor": 2, 
    "cells": [
        {
            "source": "# -*- coding: utf-8 -*-\n\"\"\"\nCreated on Thu Jun 27 14:32:13 2019\n\n@author: tongchuchu\n\"\"\"\n\nimport pandas as pd\nimport numpy as np\n\n#\u8bfb\u5165\u6570\u636e\u8868\nfrom ibmdbpy import IdaDataBase, IdaDataFrame\n\n# @hidden_cell\n# This connection object is used to access your data and contains your credentials.\n# You might want to remove those credentials before you share your notebook.\nidadb_7b989244e3e640e0901deaf1fb0f05e3 = IdaDataBase(dsn='DASHDB;Database=BLUDB;Hostname=dashdb-txn-sbox-yp-dal09-03.services.dal.bluemix.net;Port=50000;PROTOCOL=TCPIP;UID=lwk40497;PWD=w2hb^26z7lvmtz6j')\n\ncol = IdaDataFrame(idadb_7b989244e3e640e0901deaf1fb0f05e3, 'LWK40497.BOC_XIAN_DATA_TYPE_EXPLAINATION').as_dataframe()\ncol.head()\n\n# You can close the database connection with the following code. Please keep the comment line with the @hidden_cell tag,\n# because the close function displays parts of the credentials.\n# @hidden_cell\n# idadb_7b989244e3e640e0901deaf1fb0f05e3.close()\n# To learn more about the ibmdby package, please read the documentation: http://pythonhosted.org/ibmdbpy/\n", 
            "cell_type": "code", 
            "metadata": {}, 
            "outputs": [
                {
                    "output_type": "execute_result", 
                    "data": {
                        "text/plain": "             colname colname_ch   coltype\n0   custermor_number      \ufffd\u037b\ufffd\ufffd\u001a        id\n1             gender      \ufffd\u0531\u001a\uff00\u001a  discrete\n2  cust_gov_fund_ind     \ufffd\ufffd\ufffd\u0575\u023c\ufffd  discrete\n3              title     \u05b0\ufffd\u001a\u0500\u023c\ufffd  discrete\n4         occupation         \u05b0\u04b5  discrete", 
                        "text/html": "<div>\n<style scoped>\n    .dataframe tbody tr th:only-of-type {\n        vertical-align: middle;\n    }\n\n    .dataframe tbody tr th {\n        vertical-align: top;\n    }\n\n    .dataframe thead th {\n        text-align: right;\n    }\n</style>\n<table border=\"1\" class=\"dataframe\">\n  <thead>\n    <tr style=\"text-align: right;\">\n      <th></th>\n      <th>colname</th>\n      <th>colname_ch</th>\n      <th>coltype</th>\n    </tr>\n  </thead>\n  <tbody>\n    <tr>\n      <th>0</th>\n      <td>custermor_number</td>\n      <td>\ufffd\u037b\ufffd\ufffd\u001a</td>\n      <td>id</td>\n    </tr>\n    <tr>\n      <th>1</th>\n      <td>gender</td>\n      <td>\ufffd\u0531\u001a\uff00\u001a</td>\n      <td>discrete</td>\n    </tr>\n    <tr>\n      <th>2</th>\n      <td>cust_gov_fund_ind</td>\n      <td>\ufffd\ufffd\ufffd\u0575\u023c\ufffd</td>\n      <td>discrete</td>\n    </tr>\n    <tr>\n      <th>3</th>\n      <td>title</td>\n      <td>\u05b0\ufffd\u001a\u0500\u023c\ufffd</td>\n      <td>discrete</td>\n    </tr>\n    <tr>\n      <th>4</th>\n      <td>occupation</td>\n      <td>\u05b0\u04b5</td>\n      <td>discrete</td>\n    </tr>\n  </tbody>\n</table>\n</div>"
                    }, 
                    "execution_count": 1, 
                    "metadata": {}
                }
            ], 
            "execution_count": 1
        }, 
        {
            "source": "userdata = IdaDataFrame(idadb_7b989244e3e640e0901deaf1fb0f05e3, 'LWK40497.BOC_XIAN_USER_DATA').as_dataframe()", 
            "cell_type": "code", 
            "metadata": {}, 
            "outputs": [], 
            "execution_count": 2
        }, 
        {
            "source": "#\u8f6c\u53d8type\u8868\u7c7b\u578b\nprint(col[\"colname\"])\ncoltype = {k:v for (k,v) in zip(col[\"colname\"],col[\"coltype\"])}\ncoltype", 
            "cell_type": "code", 
            "metadata": {}, 
            "outputs": [
                {
                    "output_type": "stream", 
                    "name": "stdout", 
                    "text": "0              custermor_number\n1                        gender\n2             cust_gov_fund_ind\n3                         title\n4                    occupation\n5                education_code\n6                       marital\n7        credit_12month_consume\n8                    risk_grade\n9             disch_loan_amount\n10                ch_loan_count\n11             current_loan_amt\n12                overdue_count\n13                  overdue_amt\n14            overdue_trm_count\n15                payment_6_amt\n16              payment_6_count\n17              mon24_max_count\n18                mon24_max_amt\n19                  mon24_count\n20              house_loan_trml\n21         house_loan_life_trml\n22               house_app_amt1\n23           house_payment_amt1\n24            house_prepay_amt1\n25              house_loan_amt1\n26    house_loan_behavior_grade\n27          house_overdue_count\n28                        label\nName: colname, dtype: object\n"
                }, 
                {
                    "execution_count": 208, 
                    "output_type": "execute_result", 
                    "data": {
                        "text/plain": "{'ch_loan_count': 'continuous',\n 'credit_12month_consume': 'continuous',\n 'current_loan_amt': 'continuous',\n 'cust_gov_fund_ind': 'discrete',\n 'custermor_number': 'id',\n 'disch_loan_amount': 'continuous',\n 'education_code': 'discrete',\n 'gender': 'discrete',\n 'house_app_amt1': 'continuous',\n 'house_loan_amt1': 'continuous',\n 'house_loan_behavior_grade': 'continuous',\n 'house_loan_life_trml': 'continuous',\n 'house_loan_trml': 'continuous',\n 'house_overdue_count': 'continuous',\n 'house_payment_amt1': 'continuous',\n 'house_prepay_amt1': 'continuous',\n 'label': 'label',\n 'marital': 'discrete',\n 'mon24_count': 'continuous',\n 'mon24_max_amt': 'continuous',\n 'mon24_max_count': 'continuous',\n 'occupation': 'discrete',\n 'overdue_amt': 'continuous',\n 'overdue_count': 'continuous',\n 'overdue_trm_count': 'continuous',\n 'payment_6_amt': 'continuous',\n 'payment_6_count': 'continuous',\n 'risk_grade': 'continuous',\n 'title': 'discrete'}"
                    }, 
                    "metadata": {}
                }
            ], 
            "execution_count": 208
        }, 
        {
            "source": "#t%\u6e05\u6d17\ndef tpercentClean(data,coltype,t):\n    print(\"t\u6e05\u6d17\u5b8c\u6210\")\n    return(data)", 
            "cell_type": "code", 
            "metadata": {
                "collapsed": true
            }, 
            "outputs": [], 
            "execution_count": 197
        }, 
        {
            "source": "##\u7a7a\u503c\u586b\u5145\ndef nullFilling(data,coltype):\n    print(\"\u7a7a\u503c\u586b\u5145\u5b8c\u6210\")\n    return(data)", 
            "cell_type": "code", 
            "metadata": {
                "collapsed": true
            }, 
            "outputs": [], 
            "execution_count": 70
        }, 
        {
            "source": "", 
            "cell_type": "code", 
            "metadata": {
                "collapsed": true
            }, 
            "outputs": [], 
            "execution_count": null
        }, 
        {
            "source": "####\u79bb\u6563\u5316\n''' \n    \u4e3b\u51fd\u6570\u529f\u80fd\uff1a\u5bf9\u539f\u59cb\u6570\u636e\u8fdb\u884c\u79bb\u6563\u5316\uff0c\u6839\u636e\u4e0d\u540c\u7684\u9700\u8981\u8fd4\u56de\u4e0d\u540c\u7684\u6570\u636e\u7c7b\u578b \n    \u8f93\u5165\uff1a\u539f\u59cb\u6570\u636e\uff0c{\u5217\u540d\uff1a\u5217\u6570\u636e\u7c7b\u578b}\u7684dictionary\uff0c\u5206\u4f4d\u6570\u5212\u5206\u6b65\u957f\uff0c\u8fd4\u56de\u7c7b\u578b \n    \u8f93\u51fa\uff1a\u8fd4\u56de\u5bf9\u539f\u59cb\u6570\u636e\u79bb\u6563\u5316\u4e4b\u540e\u7684\u6570\u636e\u96c6 \n''' \ndef featDiscretization(data, coltype, intervalNum):\n    saveData=[]\n    colNames = list(coltype.keys())\n    #print(colNames)\n    for name in colNames:\n        if coltype[name]==\"discrete\":\n            diffValue = np.unique(data[name])\n            #saveRow = getSaveRow(name,diffValue,colType)\n            #saveData.append(saveRow)\n        elif coltype[name]==\"continuous\":\n            cutpoint = getCutpoint(np.array(data[name]),intervalNum)\n            print(\"-----------------\")\n            print(name)\n            print(cutpoint)\n            data=replaceIntervalValue(data,name,cutpoint)\n    #saveDataDF=pd.DataFrame(saveData,columns=['column_name','cutpoint_number','column_type','cutpoint'])\n    return data", 
            "cell_type": "code", 
            "metadata": {
                "collapsed": true
            }, 
            "outputs": [], 
            "execution_count": 210
        }, 
        {
            "source": "''' \n    \u51fd\u6570\u529f\u80fd\uff1a\u5f97\u5230\u5206\u4f4d\u6570\u5bf9\u5e94\u7684\u6570\u503c\u5206\u5272\u70b9 \n    \u8f93\u5165\uff1a\u8be5\u5217\u7279\u5f81\u7684\u503c\uff0c\u5212\u5206\u7684\u533a\u95f4\u4e2a\u6570 \n    \u8f93\u51fa\uff1a\u5206\u4f4d\u6570\u5bf9\u5e94\u7684\u503c \n''' \ndef getCutpoint(featValue,intervalNum):\n    cutstep = 100/intervalNum\n    percent = np.arange(0,100,cutstep)\n    tmppoint = np.percentile(featValue,percent).tolist()\n    cutpoint = [tmppoint[0]]\n    for i in range(len(tmppoint)-1):\n        if tmppoint[i] != tmppoint[i+1]:\n            cutpoint.append(tmppoint[i+1])\n    cutpoint.append(max(featValue)+1)\n    cutpointRound = [round(elem,3) for elem in cutpoint]\n    return cutpointRound", 
            "cell_type": "code", 
            "metadata": {
                "collapsed": true
            }, 
            "outputs": [], 
            "execution_count": 202
        }, 
        {
            "source": "''' \n    \u51fd\u6570\u529f\u80fd\uff1a\u6839\u636e\u5206\u5272\u70b9\u7684\u503c\u5212\u5206\u533a\u95f4\u5e76\u5c06\u8be5\u533a\u95f4\u7684\u503c\u4ee5\u5747\u503c\u66ff\u6362 \n    \u8f93\u5165\uff1a\u539f\u59cb\u6570\u636e\u7684DataFrame\uff0c\u5f85\u5904\u7406\u5217\u7684\u5217\u540d\uff0c\u5217\u5206\u5272\u70b9 \n    \u8f93\u51fa\uff1a\u503c\u66f4\u65b0\u540e\u7684\u65b0DataFrame \n''' \nimport math\ndef replaceIntervalValue(data,colname,cutpoint):\n    for i in range(len(cutpoint)-1):\n        global intervalMean\n        global intervalIndex\n        if cutpoint[i] == cutpoint[i+1]:\n            intervalIndex = data[data[colname] == cutpoint[i]].index.tolist()\n        else:\n            intervalIndex = data[data[colname] >= cutpoint[i]][data[colname] < cutpoint[i+1]].index.tolist()\n            intervalMean = data.loc[intervalIndex,colname].mean()\n            if math.isnan(intervalMean):\n                intervalMean=0.0\n            #print(\"--------------\")\n            #print(intervalMean)\n            #print(type(intervalMean))\n            #print(intervalIndex)\n        #print(data.loc[intervalIndex,colname])\n        data.loc[intervalIndex,colname] = intervalMean\n    return data", 
            "cell_type": "code", 
            "metadata": {
                "collapsed": true
            }, 
            "outputs": [], 
            "execution_count": 203
        }, 
        {
            "source": "dataPath=\"C:/Users/tongchuchu/Desktop/creditscoredata.csv\"\ndf=pd.read_table(dataPath,header='infer',sep=\",\")\ndf.head()\nprint(df.shape)", 
            "cell_type": "code", 
            "metadata": {}, 
            "outputs": [
                {
                    "output_type": "stream", 
                    "name": "stdout", 
                    "text": "(100, 29)\n"
                }
            ], 
            "execution_count": 242
        }, 
        {
            "source": "disdata = featDiscretization(df,coltype,5)\ndisdata.head()\nprint(disdata.shape)", 
            "cell_type": "code", 
            "metadata": {}, 
            "outputs": [
                {
                    "output_type": "stream", 
                    "name": "stdout", 
                    "text": "-----------------\ncredit_12month_consume\n[4356.0, 32117.84, 55299.68, 78481.52, 101663.36, 124846.2]\n-----------------\nrisk_grade\n[1.0, 2.0, 3.0, 4.0, 6]\n-----------------\ndisch_loan_amount\n[0.0, 1.0, 3.0, 4.0, 6]\n"
                }, 
                {
                    "output_type": "stream", 
                    "name": "stderr", 
                    "text": "C:\\Users\\tongchuchu\\Anaconda3\\lib\\site-packages\\ipykernel_launcher.py:9: UserWarning: Boolean Series key will be reindexed to match DataFrame index.\n  if __name__ == '__main__':\n"
                }, 
                {
                    "output_type": "stream", 
                    "name": "stdout", 
                    "text": "-----------------\nch_loan_count\n[0.0, 5.0, 18.0, 42.2, 74.6, 101]\n-----------------\ncurrent_loan_amt\n[0.0, 20775.4, 40292.4, 63150.2, 89397.0, 206538]\n-----------------\noverdue_count\n[0.0, 1.0, 2.0, 5.0, 7.0, 11]\n-----------------\noverdue_amt\n[0.0, 511.0, 3020.4, 5427.8, 7546.2, 30001]\n-----------------\noverdue_trm_count\n[0.0, 1.0, 2.6, 5.0, 7.0, 11]\n-----------------\npayment_6_amt\n[958.0, 14800.0, 44355.4, 83502.8, 141995.8, 198764]\n-----------------\npayment_6_count\n[1.0, 770.4, 44355.4, 83502.8, 141995.8, 198764]\n-----------------\nmon24_max_count\n[0.0, 1.0, 2.6, 5.0, 7.0, 11]\n-----------------\nmon24_max_amt\n[0.0, 2.0, 5.0, 8.0, 30001]\n-----------------\nmon24_count\n[0.0, 129.8, 2799.8, 5367.2, 7199.4, 9909]\n-----------------\nhouse_loan_trml\n[20.0, 70.0, 140.0, 224.0, 270.0, 361]\n-----------------\nhouse_loan_life_trml\n[10.0, 60.0, 110.0, 170.0, 242.0, 361]\n-----------------\nhouse_app_amt1\n[958.0, 40368.0, 78112.2, 119497.2, 156736.0, 220001]\n-----------------\nhouse_payment_amt1\n[958.0, 11420.0, 44355.4, 83502.8, 141995.8, 198764]\n-----------------\nhouse_prepay_amt1\n[0.0, 5.4, 21]\n-----------------\nhouse_loan_amt1\n[958.0, 40368.0, 78112.2, 119497.2, 156736.0, 220001]\n-----------------\nhouse_loan_behavior_grade\n[0.0, 6.8, 44.0, 57.0, 83.0, 97]\n-----------------\nhouse_overdue_count\n[0.0, 4.0, 10.4, 16.0, 21]\n(100, 29)\n"
                }
            ], 
            "execution_count": 244
        }, 
        {
            "source": "def featNormalization(data,coltype,label):\n    keys = list(coltype.keys())\n    for key in keys:\n        if coltype[key]==\"discrete\":\n            data = replaceDiscreteValue(data,key,label)\n        elif coltype[key]==\"continuous\":\n            data = replaceMeanValue(data,key)\n    return data", 
            "cell_type": "code", 
            "metadata": {
                "collapsed": true
            }, 
            "outputs": [], 
            "execution_count": 201
        }, 
        {
            "source": "def replaceDiscreteValue(data,colname,label):\n    colDiffValue = np.unique(data[colname])\n    oneOfLabel = np.unique(data[label])[0]\n    for value in colDiffValue:\n        valueIndex = data[data[colname] == value].index.tolist()\n        valueNum = len(valueIndex)\n        valueData = data.loc[valueIndex, [colname,label]]\n        positiveNum = len(valueData[valueData[label] == oneOfLabel])\n        positiveRatio = positiveNum/valueNum\n        data.loc[valueIndex,colname] = round(positiveRatio,3)\n    return data", 
            "cell_type": "code", 
            "metadata": {
                "collapsed": true
            }, 
            "outputs": [], 
            "execution_count": 248
        }, 
        {
            "source": "def replaceMeanValue(data,colname):\n    diffValue = np.unique(data[colname])\n    for value in diffValue:\n        valueIndex = data[data[colname]==value].index.tolist()\n        normalValue=0.0\n        if len(diffValue)!=1:\n            normalValue = (value - min(diffValue))/(max(diffValue)-min(diffValue))\n        data.loc[valueIndex,colname] = round(normalValue,3)\n    return data", 
            "cell_type": "code", 
            "metadata": {
                "collapsed": true
            }, 
            "outputs": [], 
            "execution_count": 249
        }, 
        {
            "source": "vectorData = featNormalization(disdata,coltype,\"label\")\nvectorData.head()\nprint(vectorData.shape)", 
            "cell_type": "code", 
            "metadata": {}, 
            "outputs": [
                {
                    "output_type": "stream", 
                    "name": "stdout", 
                    "text": "(100, 29)\n"
                }
            ], 
            "execution_count": 250
        }, 
        {
            "source": "#\u4fdd\u5b58\u5411\u91cf\u5316\u4e4b\u540e\u7684\u6570\u636e\nsavePath=\"C:/Users/tongchuchu/Desktop/vectoruserdata.csv\"\nvectorData.to_csv(savePath, sep=\",\",index=False)", 
            "cell_type": "code", 
            "metadata": {
                "collapsed": true
            }, 
            "outputs": [], 
            "execution_count": 251
        }, 
        {
            "source": "", 
            "cell_type": "code", 
            "metadata": {
                "collapsed": true
            }, 
            "outputs": [], 
            "execution_count": null
        }
    ], 
    "metadata": {
        "kernelspec": {
            "display_name": "Python 3.5", 
            "name": "python3", 
            "language": "python"
        }, 
        "language_info": {
            "mimetype": "text/x-python", 
            "nbconvert_exporter": "python", 
            "version": "3.5.5", 
            "name": "python", 
            "file_extension": ".py", 
            "pygments_lexer": "ipython3", 
            "codemirror_mode": {
                "version": 3, 
                "name": "ipython"
            }
        }
    }, 
    "nbformat": 4
}