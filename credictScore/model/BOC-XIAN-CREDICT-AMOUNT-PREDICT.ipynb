{
    "nbformat_minor": 1, 
    "cells": [
        {
            "execution_count": 3, 
            "cell_type": "code", 
            "metadata": {}, 
            "outputs": [], 
            "source": "import ibm_db\nimport ibm_boto3\nfrom botocore.client import Config\nimport pandas as pd"
        }, 
        {
            "execution_count": 26, 
            "cell_type": "code", 
            "metadata": {}, 
            "outputs": [
                {
                    "execution_count": 26, 
                    "metadata": {}, 
                    "data": {
                        "text/html": "<div>\n<style scoped>\n    .dataframe tbody tr th:only-of-type {\n        vertical-align: middle;\n    }\n\n    .dataframe tbody tr th {\n        vertical-align: top;\n    }\n\n    .dataframe thead th {\n        text-align: right;\n    }\n</style>\n<table border=\"1\" class=\"dataframe\">\n  <thead>\n    <tr style=\"text-align: right;\">\n      <th></th>\n      <th>custermor_number</th>\n      <th>gender</th>\n      <th>cust_gov_fund_ind</th>\n      <th>title</th>\n      <th>occupation</th>\n      <th>education_code</th>\n      <th>marital</th>\n      <th>credit_12month_consume</th>\n      <th>risk_grade</th>\n      <th>disch_loan_amount</th>\n      <th>...</th>\n      <th>mon24_count</th>\n      <th>house_loan_trml</th>\n      <th>house_loan_life_trml</th>\n      <th>house_app_amt1</th>\n      <th>house_payment_amt1</th>\n      <th>house_prepay_amt1</th>\n      <th>house_loan_amt1</th>\n      <th>house_loan_behavior_grade</th>\n      <th>house_overdue_count</th>\n      <th>label</th>\n    </tr>\n  </thead>\n  <tbody>\n    <tr>\n      <th>0</th>\n      <td>100001</td>\n      <td>0.4</td>\n      <td>0.389</td>\n      <td>0.50</td>\n      <td>0.6</td>\n      <td>0.4</td>\n      <td>0.333</td>\n      <td>0.0</td>\n      <td>0.000</td>\n      <td>0.323</td>\n      <td>...</td>\n      <td>0.0</td>\n      <td>0.746</td>\n      <td>0.373</td>\n      <td>0.000</td>\n      <td>0.0</td>\n      <td>0.0</td>\n      <td>0.000</td>\n      <td>0.762</td>\n      <td>0.000</td>\n      <td>0</td>\n    </tr>\n    <tr>\n      <th>1</th>\n      <td>100002</td>\n      <td>0.3</td>\n      <td>0.389</td>\n      <td>0.25</td>\n      <td>0.2</td>\n      <td>0.2</td>\n      <td>0.333</td>\n      <td>0.0</td>\n      <td>0.287</td>\n      <td>0.323</td>\n      <td>...</td>\n      <td>0.0</td>\n      <td>1.000</td>\n      <td>1.000</td>\n      <td>0.000</td>\n      <td>0.0</td>\n      <td>1.0</td>\n      <td>0.000</td>\n      <td>1.000</td>\n      <td>0.000</td>\n      <td>1</td>\n    </tr>\n    <tr>\n      <th>2</th>\n      <td>100003</td>\n      <td>0.4</td>\n      <td>0.227</td>\n      <td>0.25</td>\n      <td>0.2</td>\n      <td>0.4</td>\n      <td>0.333</td>\n      <td>0.0</td>\n      <td>0.574</td>\n      <td>0.000</td>\n      <td>...</td>\n      <td>0.0</td>\n      <td>0.220</td>\n      <td>0.194</td>\n      <td>0.225</td>\n      <td>0.0</td>\n      <td>0.0</td>\n      <td>0.225</td>\n      <td>0.762</td>\n      <td>0.332</td>\n      <td>1</td>\n    </tr>\n    <tr>\n      <th>3</th>\n      <td>100004</td>\n      <td>0.3</td>\n      <td>0.476</td>\n      <td>0.50</td>\n      <td>0.6</td>\n      <td>0.4</td>\n      <td>0.333</td>\n      <td>0.0</td>\n      <td>1.000</td>\n      <td>0.652</td>\n      <td>...</td>\n      <td>0.0</td>\n      <td>0.000</td>\n      <td>0.000</td>\n      <td>0.225</td>\n      <td>0.0</td>\n      <td>0.0</td>\n      <td>0.225</td>\n      <td>1.000</td>\n      <td>0.000</td>\n      <td>0</td>\n    </tr>\n    <tr>\n      <th>4</th>\n      <td>100005</td>\n      <td>0.4</td>\n      <td>0.286</td>\n      <td>0.25</td>\n      <td>0.2</td>\n      <td>0.2</td>\n      <td>0.500</td>\n      <td>0.0</td>\n      <td>1.000</td>\n      <td>0.323</td>\n      <td>...</td>\n      <td>0.0</td>\n      <td>0.746</td>\n      <td>0.637</td>\n      <td>0.225</td>\n      <td>0.0</td>\n      <td>0.0</td>\n      <td>0.225</td>\n      <td>1.000</td>\n      <td>0.000</td>\n      <td>1</td>\n    </tr>\n  </tbody>\n</table>\n<p>5 rows \u00d7 29 columns</p>\n</div>", 
                        "text/plain": "   custermor_number  gender  cust_gov_fund_ind  title  occupation  \\\n0            100001     0.4              0.389   0.50         0.6   \n1            100002     0.3              0.389   0.25         0.2   \n2            100003     0.4              0.227   0.25         0.2   \n3            100004     0.3              0.476   0.50         0.6   \n4            100005     0.4              0.286   0.25         0.2   \n\n   education_code  marital  credit_12month_consume  risk_grade  \\\n0             0.4    0.333                     0.0       0.000   \n1             0.2    0.333                     0.0       0.287   \n2             0.4    0.333                     0.0       0.574   \n3             0.4    0.333                     0.0       1.000   \n4             0.2    0.500                     0.0       1.000   \n\n   disch_loan_amount  ...    mon24_count  house_loan_trml  \\\n0              0.323  ...            0.0            0.746   \n1              0.323  ...            0.0            1.000   \n2              0.000  ...            0.0            0.220   \n3              0.652  ...            0.0            0.000   \n4              0.323  ...            0.0            0.746   \n\n   house_loan_life_trml  house_app_amt1  house_payment_amt1  \\\n0                 0.373           0.000                 0.0   \n1                 1.000           0.000                 0.0   \n2                 0.194           0.225                 0.0   \n3                 0.000           0.225                 0.0   \n4                 0.637           0.225                 0.0   \n\n   house_prepay_amt1  house_loan_amt1  house_loan_behavior_grade  \\\n0                0.0            0.000                      0.762   \n1                1.0            0.000                      1.000   \n2                0.0            0.225                      0.762   \n3                0.0            0.225                      1.000   \n4                0.0            0.225                      1.000   \n\n   house_overdue_count  label  \n0                0.000      0  \n1                0.000      1  \n2                0.332      1  \n3                0.000      0  \n4                0.000      1  \n\n[5 rows x 29 columns]"
                    }, 
                    "output_type": "execute_result"
                }
            ], 
            "source": "# The code was removed by Watson Studio for sharing."
        }, 
        {
            "execution_count": null, 
            "cell_type": "code", 
            "metadata": {}, 
            "outputs": [], 
            "source": "#\u8f6c\u6362\u9884\u6d4b\u6570\u636e\nimport numpy as np\ndel userdataDF[\"label\"]"
        }, 
        {
            "execution_count": 37, 
            "cell_type": "code", 
            "metadata": {}, 
            "outputs": [], 
            "source": "predictDataList = np.array(userdataDF).tolist()"
        }, 
        {
            "execution_count": 40, 
            "cell_type": "code", 
            "metadata": {}, 
            "outputs": [], 
            "source": "import requests"
        }, 
        {
            "execution_count": 43, 
            "cell_type": "code", 
            "metadata": {}, 
            "outputs": [
                {
                    "output_type": "stream", 
                    "name": "stdout", 
                    "text": "<Response [404]>\n"
                }
            ], 
            "source": "# Paste your Watson Machine Learning service apikey here\n# Use the rest of the code sample as written\napikey = \"5dImTj6rX5qDBUCXYoSKFu8FxI4ASGh_6ZpV7ER7WUBe\"\n\n# Get an IAM token from IBM Cloud\n#\u9700\u8981\u7ffb\u5899\uff0c\u5426\u5219url\u8bf7\u6c42\u4e0d\u5230\nurl     = \"https://us-south.ml.cloud.ibm.com\"\nheaders = { \"Content-Type\" : \"application/x-www-form-urlencoded\" }\ndata    = \"apikey=\" + apikey + \"&grant_type=urn:ibm:params:oauth:grant-type:apikey\"\n#IBM_cloud_IAM_uid = \"2206933d-fea8-44fb-8957-a56ad5f0595a\"\n#IBM_cloud_IAM_pwd = \"ac1a3950-f51b-4bfb-b573-8ceed31338f9\"\nresponse  = requests.post( url, headers=headers, data=data )\nprint(response)\n#iam_token = response.json()[\"access_token\"]"
        }, 
        {
            "execution_count": 106, 
            "cell_type": "code", 
            "metadata": {}, 
            "outputs": [
                {
                    "output_type": "stream", 
                    "name": "stdout", 
                    "text": "{'errors': [{'message': 'Invalid authorization token.', 'code': 'invalid_authorization_token', 'target': {'name': 'Authorization', 'type': 'header'}}], 'trace': '-1j6u845cbflqk'}\n"
                }
            ], 
            "source": "#\u8c03\u7528\u6a21\u578b\u9884\u6d4b\nimport urllib3, requests, json\n# NOTE: generate iam_token and retrieve ml_instance_id based on provided documentation\t\n\nml_instance_id=\"61d5345d-ecc4-45aa-b03e-910e783b3127\"\n#\u627e\u7ffb\u5899\u7684\u8bf7\u6c42\u7684token\uff0ctoken\u6709\u65f6\u6548\u6027\uff0c\u8fc7\u671f\u9700\u91cd\u65b0\u8bf7\u6c42\n#iam_token=\"eyJraWQiOiIyMDE5MDIwNCIsImFsZyI6IlJTMjU2In0.eyJpYW1faWQiOiJpYW0tU2VydmljZUlkLWViYjBhYWNlLTAxMmItNDRmYy04ODIwLWMyYmVhODI5ZTJiYiIsImlkIjoiaWFtLVNlcnZpY2VJZC1lYmIwYWFjZS0wMTJiLTQ0ZmMtODgyMC1jMmJlYTgyOWUyYmIiLCJyZWFsbWlkIjoiaWFtIiwiaWRlbnRpZmllciI6IlNlcnZpY2VJZC1lYmIwYWFjZS0wMTJiLTQ0ZmMtODgyMC1jMmJlYTgyOWUyYmIiLCJzdWIiOiJTZXJ2aWNlSWQtZWJiMGFhY2UtMDEyYi00NGZjLTg4MjAtYzJiZWE4MjllMmJiIiwic3ViX3R5cGUiOiJTZXJ2aWNlSWQiLCJhY2NvdW50Ijp7InZhbGlkIjp0cnVlLCJic3MiOiJiYjc1NDFjNWY2NDQ0Y2EyYmJmMDdhODBiZTczZDU0ZiJ9LCJpYXQiOjE1NjE3MDY2OTMsImV4cCI6MTU2MTcxMDI5MywiaXNzIjoiaHR0cHM6Ly9pYW0ubmcuYmx1ZW1peC5uZXQvb2lkYy90b2tlbiIsImdyYW50X3R5cGUiOiJ1cm46aWJtOnBhcmFtczpvYXV0aDpncmFudC10eXBlOmFwaWtleSIsInNjb3BlIjoiaWJtIG9wZW5pZCIsImNsaWVudF9pZCI6ImRlZmF1bHQiLCJhY3IiOjEsImFtciI6WyJwd2QiXX0.DprQLohAPkG3hmtxA1-7dJqHVu1-fUgjiZMOzyah36mgzyKLy-ixRECOGQdb8Q4YXmreGCA9IUlmdoi5i8cjHeGAE4LTJCC8BF3LQdBlxfiqCMUyvrY7zL8pp_H45D79VIMD95hRBmmwZEU4CQtB_YUGNdO5plEQcONtN78uZPLgfkKgNccnUkfSZf6ihj2aCMTBseFSKyPxW8rJku7lekF8Si5bFAmx7DTJldg_h-ScpndHXt6YLzjWHKCHbsNRNVU5tU_e6GIlTrMIcIPbqbCmybI82JQy8YFvPCFhEPWmGZsRO1Q-vFIYcUdcJ9EqDtDUx6LTP6DhNzhEQ3EjCA\"\niam_token=\"p-43fdcc040863eb82271e4a5a796733893793017b\"\n# NOTE: generate iam_token and retrieve ml_instance_id based on provided documentation\t\nheader = {'Content-Type': 'application/json', 'Authorization': 'Bearer ' + iam_token, 'ML-Instance-ID': ml_instance_id}\n\n# NOTE: manually define and pass the array(s) of values to be scored in the next line\npayload_scoring = {\"fields\": [\"custermor_number\", \"gender\", \"cust_gov_fund_ind\", \"title\", \"occupation\", \"education_code\", \n                              \"marital\", \"credit_12month_consume\", \"risk_grade\", \"disch_loan_amount\", \"ch_loan_count\", \n                              \"current_loan_amt\", \"overdue_count\", \"overdue_amt\", \"overdue_trm_count\", \"payment_6_amt\",\n                              \"payment_6_count\", \"mon24_max_count\", \"mon24_max_amt\", \"mon24_count\", \"house_loan_trml\", \n                              \"house_loan_life_trml\", \"house_app_amt1\", \"house_payment_amt1\", \"house_prepay_amt1\", \"house_loan_amt1\",\n                              \"house_loan_behavior_grade\", \"house_overdue_count\"], \n                   \"values\": predictDataList}\n\nresponse_scoring = requests.post('https://us-south.ml.cloud.ibm.com/v3/wml_instances/61d5345d-ecc4-45aa-b03e-910e783b3127/deployments/0cc1eedf-f5eb-4394-a5c2-774cc07f3e4c/online', json=payload_scoring, headers=header)\nprint(json.loads(response_scoring.text))\n"
        }, 
        {
            "execution_count": 48, 
            "cell_type": "code", 
            "metadata": {}, 
            "outputs": [
                {
                    "execution_count": 48, 
                    "metadata": {}, 
                    "data": {
                        "text/html": "<div>\n<style scoped>\n    .dataframe tbody tr th:only-of-type {\n        vertical-align: middle;\n    }\n\n    .dataframe tbody tr th {\n        vertical-align: top;\n    }\n\n    .dataframe thead th {\n        text-align: right;\n    }\n</style>\n<table border=\"1\" class=\"dataframe\">\n  <thead>\n    <tr style=\"text-align: right;\">\n      <th></th>\n      <th>custermor_number</th>\n      <th>gender</th>\n      <th>cust_gov_fund_ind</th>\n      <th>title</th>\n      <th>occupation</th>\n      <th>education_code</th>\n      <th>marital</th>\n      <th>credit_12month_consume</th>\n      <th>risk_grade</th>\n      <th>disch_loan_amount</th>\n      <th>...</th>\n      <th>house_prepay_amt1</th>\n      <th>house_loan_amt1</th>\n      <th>house_loan_behavior_grade</th>\n      <th>house_overdue_count</th>\n      <th>features</th>\n      <th>rawPrediction</th>\n      <th>probability</th>\n      <th>prediction</th>\n      <th>nodeADP_class</th>\n      <th>nodeADP_classes</th>\n    </tr>\n  </thead>\n  <tbody>\n    <tr>\n      <th>0</th>\n      <td>100001</td>\n      <td>0.4</td>\n      <td>0.389</td>\n      <td>0.50</td>\n      <td>0.6</td>\n      <td>0.4</td>\n      <td>0.333</td>\n      <td>0.0</td>\n      <td>0.000</td>\n      <td>0.323</td>\n      <td>...</td>\n      <td>0.0</td>\n      <td>0.000</td>\n      <td>0.762</td>\n      <td>0.000</td>\n      <td>[27, [0, 1, 2, 3, 4, 5, 8, 11, 12, 13, 16, 17,...</td>\n      <td>[2677.5077084057757, -2677.5077084057757]</td>\n      <td>[1.0, 0.0]</td>\n      <td>0.0</td>\n      <td>0.0</td>\n      <td>[0.0, 1.0]</td>\n    </tr>\n    <tr>\n      <th>1</th>\n      <td>100002</td>\n      <td>0.3</td>\n      <td>0.389</td>\n      <td>0.25</td>\n      <td>0.2</td>\n      <td>0.2</td>\n      <td>0.333</td>\n      <td>0.0</td>\n      <td>0.287</td>\n      <td>0.323</td>\n      <td>...</td>\n      <td>1.0</td>\n      <td>0.000</td>\n      <td>1.000</td>\n      <td>0.000</td>\n      <td>[27, [0, 1, 2, 3, 4, 5, 7, 8, 11, 13, 16, 19, ...</td>\n      <td>[-1078.3382778781724, 1078.3382778781724]</td>\n      <td>[0.0, 1.0]</td>\n      <td>1.0</td>\n      <td>1.0</td>\n      <td>[0.0, 1.0]</td>\n    </tr>\n    <tr>\n      <th>2</th>\n      <td>100003</td>\n      <td>0.4</td>\n      <td>0.227</td>\n      <td>0.25</td>\n      <td>0.2</td>\n      <td>0.4</td>\n      <td>0.333</td>\n      <td>0.0</td>\n      <td>0.574</td>\n      <td>0.000</td>\n      <td>...</td>\n      <td>0.0</td>\n      <td>0.225</td>\n      <td>0.762</td>\n      <td>0.332</td>\n      <td>[27, [0, 1, 2, 3, 4, 5, 7, 10, 12, 17, 19, 20,...</td>\n      <td>[-27.276344237664944, 27.276344237664944]</td>\n      <td>[1.425719898754094e-12, 0.9999999999985743]</td>\n      <td>1.0</td>\n      <td>1.0</td>\n      <td>[0.0, 1.0]</td>\n    </tr>\n    <tr>\n      <th>3</th>\n      <td>100004</td>\n      <td>0.3</td>\n      <td>0.476</td>\n      <td>0.50</td>\n      <td>0.6</td>\n      <td>0.4</td>\n      <td>0.333</td>\n      <td>0.0</td>\n      <td>1.000</td>\n      <td>0.652</td>\n      <td>...</td>\n      <td>0.0</td>\n      <td>0.225</td>\n      <td>1.000</td>\n      <td>0.000</td>\n      <td>[5.968668193156659, 5.23757432908855, 4.068381...</td>\n      <td>[2843.4323926357474, -2843.4323926357474]</td>\n      <td>[1.0, 0.0]</td>\n      <td>0.0</td>\n      <td>0.0</td>\n      <td>[0.0, 1.0]</td>\n    </tr>\n    <tr>\n      <th>4</th>\n      <td>100005</td>\n      <td>0.4</td>\n      <td>0.286</td>\n      <td>0.25</td>\n      <td>0.2</td>\n      <td>0.2</td>\n      <td>0.500</td>\n      <td>0.0</td>\n      <td>1.000</td>\n      <td>0.323</td>\n      <td>...</td>\n      <td>0.0</td>\n      <td>0.225</td>\n      <td>1.000</td>\n      <td>0.000</td>\n      <td>[7.958224257542212, 3.14694592041875, 2.034190...</td>\n      <td>[-163.45372831690815, 163.45372831690815]</td>\n      <td>[1.0302621512855348e-71, 1.0]</td>\n      <td>1.0</td>\n      <td>1.0</td>\n      <td>[0.0, 1.0]</td>\n    </tr>\n  </tbody>\n</table>\n<p>5 rows \u00d7 34 columns</p>\n</div>", 
                        "text/plain": "   custermor_number  gender  cust_gov_fund_ind  title  occupation  \\\n0            100001     0.4              0.389   0.50         0.6   \n1            100002     0.3              0.389   0.25         0.2   \n2            100003     0.4              0.227   0.25         0.2   \n3            100004     0.3              0.476   0.50         0.6   \n4            100005     0.4              0.286   0.25         0.2   \n\n   education_code  marital  credit_12month_consume  risk_grade  \\\n0             0.4    0.333                     0.0       0.000   \n1             0.2    0.333                     0.0       0.287   \n2             0.4    0.333                     0.0       0.574   \n3             0.4    0.333                     0.0       1.000   \n4             0.2    0.500                     0.0       1.000   \n\n   disch_loan_amount       ...         house_prepay_amt1  house_loan_amt1  \\\n0              0.323       ...                       0.0            0.000   \n1              0.323       ...                       1.0            0.000   \n2              0.000       ...                       0.0            0.225   \n3              0.652       ...                       0.0            0.225   \n4              0.323       ...                       0.0            0.225   \n\n   house_loan_behavior_grade  house_overdue_count  \\\n0                      0.762                0.000   \n1                      1.000                0.000   \n2                      0.762                0.332   \n3                      1.000                0.000   \n4                      1.000                0.000   \n\n                                            features  \\\n0  [27, [0, 1, 2, 3, 4, 5, 8, 11, 12, 13, 16, 17,...   \n1  [27, [0, 1, 2, 3, 4, 5, 7, 8, 11, 13, 16, 19, ...   \n2  [27, [0, 1, 2, 3, 4, 5, 7, 10, 12, 17, 19, 20,...   \n3  [5.968668193156659, 5.23757432908855, 4.068381...   \n4  [7.958224257542212, 3.14694592041875, 2.034190...   \n\n                               rawPrediction  \\\n0  [2677.5077084057757, -2677.5077084057757]   \n1  [-1078.3382778781724, 1078.3382778781724]   \n2  [-27.276344237664944, 27.276344237664944]   \n3  [2843.4323926357474, -2843.4323926357474]   \n4  [-163.45372831690815, 163.45372831690815]   \n\n                                   probability  prediction  nodeADP_class  \\\n0                                   [1.0, 0.0]         0.0            0.0   \n1                                   [0.0, 1.0]         1.0            1.0   \n2  [1.425719898754094e-12, 0.9999999999985743]         1.0            1.0   \n3                                   [1.0, 0.0]         0.0            0.0   \n4                [1.0302621512855348e-71, 1.0]         1.0            1.0   \n\n   nodeADP_classes  \n0       [0.0, 1.0]  \n1       [0.0, 1.0]  \n2       [0.0, 1.0]  \n3       [0.0, 1.0]  \n4       [0.0, 1.0]  \n\n[5 rows x 34 columns]"
                    }, 
                    "output_type": "execute_result"
                }
            ], 
            "source": "#\u5c06\u9884\u6d4b\u7ed3\u679c\u8f6c\u4e3adataframe\nimport pandas as pd\n#type(json.loads(response_scoring.text))\ndataDict = json.loads(response_scoring.text)\ncombos = pd.DataFrame(dataDict['values'],columns=dataDict['fields'])"
        }, 
        {
            "execution_count": 93, 
            "cell_type": "code", 
            "metadata": {}, 
            "outputs": [
                {
                    "execution_count": 93, 
                    "metadata": {}, 
                    "data": {
                        "text/html": "<div>\n<style scoped>\n    .dataframe tbody tr th:only-of-type {\n        vertical-align: middle;\n    }\n\n    .dataframe tbody tr th {\n        vertical-align: top;\n    }\n\n    .dataframe thead th {\n        text-align: right;\n    }\n</style>\n<table border=\"1\" class=\"dataframe\">\n  <thead>\n    <tr style=\"text-align: right;\">\n      <th></th>\n      <th>custermor_number</th>\n      <th>credit_amount</th>\n    </tr>\n  </thead>\n  <tbody>\n    <tr>\n      <th>0</th>\n      <td>100001</td>\n      <td>5000.000</td>\n    </tr>\n    <tr>\n      <th>1</th>\n      <td>100002</td>\n      <td>0.000</td>\n    </tr>\n    <tr>\n      <th>2</th>\n      <td>100003</td>\n      <td>0.000</td>\n    </tr>\n    <tr>\n      <th>3</th>\n      <td>100004</td>\n      <td>5000.000</td>\n    </tr>\n    <tr>\n      <th>4</th>\n      <td>100005</td>\n      <td>0.000</td>\n    </tr>\n    <tr>\n      <th>5</th>\n      <td>100006</td>\n      <td>0.000</td>\n    </tr>\n    <tr>\n      <th>6</th>\n      <td>100007</td>\n      <td>5000.000</td>\n    </tr>\n    <tr>\n      <th>7</th>\n      <td>100008</td>\n      <td>0.002</td>\n    </tr>\n    <tr>\n      <th>8</th>\n      <td>100009</td>\n      <td>0.000</td>\n    </tr>\n    <tr>\n      <th>9</th>\n      <td>100010</td>\n      <td>5000.000</td>\n    </tr>\n    <tr>\n      <th>10</th>\n      <td>100011</td>\n      <td>0.000</td>\n    </tr>\n    <tr>\n      <th>11</th>\n      <td>100012</td>\n      <td>0.000</td>\n    </tr>\n    <tr>\n      <th>12</th>\n      <td>100013</td>\n      <td>5000.000</td>\n    </tr>\n    <tr>\n      <th>13</th>\n      <td>100014</td>\n      <td>0.000</td>\n    </tr>\n    <tr>\n      <th>14</th>\n      <td>100015</td>\n      <td>0.000</td>\n    </tr>\n    <tr>\n      <th>15</th>\n      <td>100016</td>\n      <td>5000.000</td>\n    </tr>\n    <tr>\n      <th>16</th>\n      <td>100017</td>\n      <td>0.000</td>\n    </tr>\n    <tr>\n      <th>17</th>\n      <td>100018</td>\n      <td>0.000</td>\n    </tr>\n    <tr>\n      <th>18</th>\n      <td>100019</td>\n      <td>5000.000</td>\n    </tr>\n    <tr>\n      <th>19</th>\n      <td>100020</td>\n      <td>0.000</td>\n    </tr>\n    <tr>\n      <th>20</th>\n      <td>100021</td>\n      <td>5000.000</td>\n    </tr>\n    <tr>\n      <th>21</th>\n      <td>100022</td>\n      <td>0.000</td>\n    </tr>\n    <tr>\n      <th>22</th>\n      <td>100023</td>\n      <td>0.000</td>\n    </tr>\n    <tr>\n      <th>23</th>\n      <td>100024</td>\n      <td>5000.000</td>\n    </tr>\n    <tr>\n      <th>24</th>\n      <td>100025</td>\n      <td>0.000</td>\n    </tr>\n    <tr>\n      <th>25</th>\n      <td>100026</td>\n      <td>0.000</td>\n    </tr>\n    <tr>\n      <th>26</th>\n      <td>100027</td>\n      <td>5000.000</td>\n    </tr>\n    <tr>\n      <th>27</th>\n      <td>100028</td>\n      <td>0.000</td>\n    </tr>\n    <tr>\n      <th>28</th>\n      <td>100029</td>\n      <td>0.000</td>\n    </tr>\n    <tr>\n      <th>29</th>\n      <td>100030</td>\n      <td>5000.000</td>\n    </tr>\n    <tr>\n      <th>...</th>\n      <td>...</td>\n      <td>...</td>\n    </tr>\n    <tr>\n      <th>70</th>\n      <td>100071</td>\n      <td>0.000</td>\n    </tr>\n    <tr>\n      <th>71</th>\n      <td>100072</td>\n      <td>0.000</td>\n    </tr>\n    <tr>\n      <th>72</th>\n      <td>100073</td>\n      <td>4999.999</td>\n    </tr>\n    <tr>\n      <th>73</th>\n      <td>100074</td>\n      <td>0.000</td>\n    </tr>\n    <tr>\n      <th>74</th>\n      <td>100075</td>\n      <td>0.001</td>\n    </tr>\n    <tr>\n      <th>75</th>\n      <td>100076</td>\n      <td>5000.000</td>\n    </tr>\n    <tr>\n      <th>76</th>\n      <td>100077</td>\n      <td>0.000</td>\n    </tr>\n    <tr>\n      <th>77</th>\n      <td>100078</td>\n      <td>0.000</td>\n    </tr>\n    <tr>\n      <th>78</th>\n      <td>100079</td>\n      <td>5000.000</td>\n    </tr>\n    <tr>\n      <th>79</th>\n      <td>100080</td>\n      <td>0.000</td>\n    </tr>\n    <tr>\n      <th>80</th>\n      <td>100081</td>\n      <td>5000.000</td>\n    </tr>\n    <tr>\n      <th>81</th>\n      <td>100082</td>\n      <td>0.000</td>\n    </tr>\n    <tr>\n      <th>82</th>\n      <td>100083</td>\n      <td>0.000</td>\n    </tr>\n    <tr>\n      <th>83</th>\n      <td>100084</td>\n      <td>5000.000</td>\n    </tr>\n    <tr>\n      <th>84</th>\n      <td>100085</td>\n      <td>0.000</td>\n    </tr>\n    <tr>\n      <th>85</th>\n      <td>100086</td>\n      <td>0.000</td>\n    </tr>\n    <tr>\n      <th>86</th>\n      <td>100087</td>\n      <td>5000.000</td>\n    </tr>\n    <tr>\n      <th>87</th>\n      <td>100088</td>\n      <td>0.000</td>\n    </tr>\n    <tr>\n      <th>88</th>\n      <td>100089</td>\n      <td>0.000</td>\n    </tr>\n    <tr>\n      <th>89</th>\n      <td>100090</td>\n      <td>5000.000</td>\n    </tr>\n    <tr>\n      <th>90</th>\n      <td>100091</td>\n      <td>0.000</td>\n    </tr>\n    <tr>\n      <th>91</th>\n      <td>100092</td>\n      <td>0.000</td>\n    </tr>\n    <tr>\n      <th>92</th>\n      <td>100093</td>\n      <td>5000.000</td>\n    </tr>\n    <tr>\n      <th>93</th>\n      <td>100094</td>\n      <td>0.000</td>\n    </tr>\n    <tr>\n      <th>94</th>\n      <td>100095</td>\n      <td>0.000</td>\n    </tr>\n    <tr>\n      <th>95</th>\n      <td>100096</td>\n      <td>5000.000</td>\n    </tr>\n    <tr>\n      <th>96</th>\n      <td>100097</td>\n      <td>0.000</td>\n    </tr>\n    <tr>\n      <th>97</th>\n      <td>100098</td>\n      <td>0.000</td>\n    </tr>\n    <tr>\n      <th>98</th>\n      <td>100099</td>\n      <td>5000.000</td>\n    </tr>\n    <tr>\n      <th>99</th>\n      <td>100100</td>\n      <td>0.000</td>\n    </tr>\n  </tbody>\n</table>\n<p>100 rows \u00d7 2 columns</p>\n</div>", 
                        "text/plain": "    custermor_number  credit_amount\n0             100001       5000.000\n1             100002          0.000\n2             100003          0.000\n3             100004       5000.000\n4             100005          0.000\n5             100006          0.000\n6             100007       5000.000\n7             100008          0.002\n8             100009          0.000\n9             100010       5000.000\n10            100011          0.000\n11            100012          0.000\n12            100013       5000.000\n13            100014          0.000\n14            100015          0.000\n15            100016       5000.000\n16            100017          0.000\n17            100018          0.000\n18            100019       5000.000\n19            100020          0.000\n20            100021       5000.000\n21            100022          0.000\n22            100023          0.000\n23            100024       5000.000\n24            100025          0.000\n25            100026          0.000\n26            100027       5000.000\n27            100028          0.000\n28            100029          0.000\n29            100030       5000.000\n..               ...            ...\n70            100071          0.000\n71            100072          0.000\n72            100073       4999.999\n73            100074          0.000\n74            100075          0.001\n75            100076       5000.000\n76            100077          0.000\n77            100078          0.000\n78            100079       5000.000\n79            100080          0.000\n80            100081       5000.000\n81            100082          0.000\n82            100083          0.000\n83            100084       5000.000\n84            100085          0.000\n85            100086          0.000\n86            100087       5000.000\n87            100088          0.000\n88            100089          0.000\n89            100090       5000.000\n90            100091          0.000\n91            100092          0.000\n92            100093       5000.000\n93            100094          0.000\n94            100095          0.000\n95            100096       5000.000\n96            100097          0.000\n97            100098          0.000\n98            100099       5000.000\n99            100100          0.000\n\n[100 rows x 2 columns]"
                    }, 
                    "output_type": "execute_result"
                }
            ], 
            "source": "amount = []\nprob=combos[\"probability\"].tolist()\nfor elem in prob:\n    if isinstance(elem,list):\n        amount.append(round(elem[0]*5000,3))\n    elif isinstance(elem,float):\n        amount.append(round(elem*5000,3))\ncombos['credit_amount']=amount\nuser_credit_amount=combos[['custermor_number','credit_amount']]\nuser_credit_amount"
        }, 
        {
            "execution_count": 94, 
            "cell_type": "code", 
            "metadata": {}, 
            "outputs": [], 
            "source": "# The code was removed by Watson Studio for sharing."
        }, 
        {
            "execution_count": 96, 
            "cell_type": "code", 
            "metadata": {}, 
            "outputs": [
                {
                    "output_type": "stream", 
                    "name": "stdout", 
                    "text": "DRIVER={IBM DB2 ODBC DRIVER};DATABASE=BLUDB;HOSTNAME=dashdb-txn-sbox-yp-dal09-03.services.dal.bluemix.net;PORT=50000;PROTOCOL=TCPIP;UID=lwk40497;PWD=w2hb^26z7lvmtz6j;\n"
                }
            ], 
            "source": "dsn_driver = \"IBM DB2 ODBC DRIVER\"\ndsn_database = credentials_1['database'] \ndsn_hostname = credentials_1['host']\ndsn_port = \"50000\"                \ndsn_uid = credentials_1['username']      \ndsn_pwd = credentials_1['password']\n\ndsn = (\n    \"DRIVER={{IBM DB2 ODBC DRIVER}};\"\n    \"DATABASE={0};\"\n    \"HOSTNAME={1};\"\n    \"PORT={2};\"\n    \"PROTOCOL=TCPIP;\"\n    \"UID={3};\"\n    \"PWD={4};\").format(dsn_database, dsn_hostname, dsn_port, dsn_uid, dsn_pwd)\nprint(dsn)\n\nconn = ibm_db.connect(dsn, \"\", \"\")"
        }, 
        {
            "execution_count": 104, 
            "cell_type": "code", 
            "metadata": {}, 
            "outputs": [
                {
                    "execution_count": 104, 
                    "metadata": {}, 
                    "data": {
                        "text/plain": "<ibm_db.IBM_DBStatement at 0x7f27914cde00>"
                    }, 
                    "output_type": "execute_result"
                }
            ], 
            "source": "create_statement= 'CREATE TABLE \"USER_CREDIT_AMOUNT\" (\\n\"custermor_number\" VARCHAR,\\n \"credit_amount\" VARCHAR)'\ncreate_statement=create_statement.replace('VARCHAR', 'VARCHAR(256)')\nibm_db.exec_immediate(conn, create_statement)"
        }, 
        {
            "execution_count": 105, 
            "cell_type": "code", 
            "metadata": {}, 
            "outputs": [
                {
                    "output_type": "stream", 
                    "name": "stdout", 
                    "text": "-----------------------------------\n-----------------------------------\n-----------------------------------\n-----------------------------------\n-----------------------------------\n-----------------------------------\n-----------------------------------\n-----------------------------------\n-----------------------------------\n-----------------------------------\n-----------------------------------\n-----------------------------------\n-----------------------------------\n-----------------------------------\n-----------------------------------\n-----------------------------------\n-----------------------------------\n-----------------------------------\n-----------------------------------\n-----------------------------------\n-----------------------------------\n-----------------------------------\n-----------------------------------\n-----------------------------------\n-----------------------------------\n-----------------------------------\n-----------------------------------\n-----------------------------------\n-----------------------------------\n-----------------------------------\n-----------------------------------\n-----------------------------------\n-----------------------------------\n-----------------------------------\n-----------------------------------\n-----------------------------------\n-----------------------------------\n-----------------------------------\n-----------------------------------\n-----------------------------------\n-----------------------------------\n-----------------------------------\n-----------------------------------\n-----------------------------------\n-----------------------------------\n-----------------------------------\n-----------------------------------\n-----------------------------------\n-----------------------------------\n-----------------------------------\n-----------------------------------\n-----------------------------------\n-----------------------------------\n-----------------------------------\n-----------------------------------\n-----------------------------------\n-----------------------------------\n-----------------------------------\n-----------------------------------\n-----------------------------------\n-----------------------------------\n-----------------------------------\n-----------------------------------\n-----------------------------------\n-----------------------------------\n-----------------------------------\n-----------------------------------\n-----------------------------------\n-----------------------------------\n-----------------------------------\n-----------------------------------\n-----------------------------------\n-----------------------------------\n-----------------------------------\n-----------------------------------\n-----------------------------------\n-----------------------------------\n-----------------------------------\n-----------------------------------\n-----------------------------------\n-----------------------------------\n-----------------------------------\n-----------------------------------\n-----------------------------------\n-----------------------------------\n-----------------------------------\n-----------------------------------\n-----------------------------------\n-----------------------------------\n-----------------------------------\n-----------------------------------\n-----------------------------------\n-----------------------------------\n-----------------------------------\n-----------------------------------\n-----------------------------------\n-----------------------------------\n-----------------------------------\n-----------------------------------\n-----------------------------------\n"
                }
            ], 
            "source": "for index, row in user_credit_amount.iterrows():\n    #print (row['YEAR'], row['TYPES OF WATCHES'], row['ORDER METHOD'], row['STORE LOCATION'], row['REVENUE GENERATED ($ USD)'], row['MANUFACTURING COST ($ USD)'], row['UNITS SOLD'], row['MANUFACTURING COST PER UNIT ($ USD)'], row['GROSS PROFIT ($ USD)'], row['UNIT SALE PRICE ($ USD)'])\n    print(\"-----------------------------------\")\n    #a=\"\\'\"\n    #w = a+row['custermor_number']+a\n    #o = a+row['credit_amount']\n    #s = a+row['STORE LOCATION']+a\n    insert = 'INSERT INTO lwk40497.USER_CREDIT_AMOUNT VALUES(%s, %s)' %(row['custermor_number'], row['credit_amount'])\n    ibm_db.exec_immediate(conn, insert)"
        }, 
        {
            "execution_count": null, 
            "cell_type": "code", 
            "metadata": {}, 
            "outputs": [], 
            "source": ""
        }
    ], 
    "metadata": {
        "kernelspec": {
            "display_name": "Python 3.5", 
            "name": "python3", 
            "language": "python"
        }, 
        "language_info": {
            "mimetype": "text/x-python", 
            "nbconvert_exporter": "python", 
            "version": "3.5.5", 
            "name": "python", 
            "file_extension": ".py", 
            "pygments_lexer": "ipython3", 
            "codemirror_mode": {
                "version": 3, 
                "name": "ipython"
            }
        }
    }, 
    "nbformat": 4
}